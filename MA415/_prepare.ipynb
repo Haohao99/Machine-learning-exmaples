{
 "cells": [
  {
   "cell_type": "code",
   "execution_count": 23,
   "metadata": {},
   "outputs": [],
   "source": [
    "import numpy as np\n",
    "import pandas as pd\n",
    "from sklearn.model_selection import train_test_split\n",
    "from sklearn.model_selection import GridSearchCV\n",
    "from sklearn.linear_model import Ridge, RidgeCV, Lasso, LassoCV\n",
    "from sklearn.tree import DecisionTreeRegressor , export_graphviz\n",
    "import graphviz\n",
    "from sklearn.ensemble import RandomForestRegressor\n",
    "from sklearn.model_selection import train_test_split, GridSearchCV, cross_validate"
   ]
  },
  {
   "cell_type": "code",
   "execution_count": 2,
   "metadata": {},
   "outputs": [],
   "source": [
    "# pd.read_csv()"
   ]
  },
  {
   "cell_type": "code",
   "execution_count": 3,
   "metadata": {},
   "outputs": [],
   "source": [
    "# train.drop('motive',axis=1)"
   ]
  },
  {
   "cell_type": "code",
   "execution_count": 19,
   "metadata": {},
   "outputs": [],
   "source": [
    "#Baseline\n",
    "#train.motive.value_counts().sort_index()"
   ]
  },
  {
   "cell_type": "code",
   "execution_count": 20,
   "metadata": {},
   "outputs": [],
   "source": [
    "#sperate data\n",
    "#(df_train,df_test) = train_test_split(train,\n",
    "                                     #train_size=0.8,\n",
    "                                     #test_size=0.2,\n",
    "                                     #random_state =0)"
   ]
  },
  {
   "cell_type": "code",
   "execution_count": null,
   "metadata": {},
   "outputs": [],
   "source": [
    "#get dummies\n",
    "#features_train = df_train.drop('motive',axis=1)\n",
    "#features_test = df_test.drop('motive',axis=1)\n",
    "#features_train = pd.get_dummies(features_train)\n",
    "#features_test = pd.get_dummies(features_test)"
   ]
  },
  {
   "cell_type": "code",
   "execution_count": 34,
   "metadata": {},
   "outputs": [],
   "source": [
    "#scaler\n",
    "#stnd = StandardScaler()\n",
    "#stnd.fit(features_train_e)\n",
    "#features_train_e = pd.DataFrame(stnd.transform(features_train_e),\n",
    "                               # columns=features_train_e.columns)\n",
    "#features_test_e  = pd.DataFrame(stnd.transform(features_test_e),\n",
    "                                #columns=features_test_e.columns)"
   ]
  },
  {
   "cell_type": "code",
   "execution_count": null,
   "metadata": {},
   "outputs": [],
   "source": [
    "#features = (features - features.mean())/features.std()"
   ]
  },
  {
   "cell_type": "markdown",
   "metadata": {},
   "source": [
    "# Regularization"
   ]
  },
  {
   "cell_type": "markdown",
   "metadata": {},
   "source": [
    "# Ridge Regression"
   ]
  },
  {
   "cell_type": "code",
   "execution_count": 5,
   "metadata": {},
   "outputs": [],
   "source": [
    "#grid={'alpha':[0.0001,0.001,0.01,0.1,1,10,100,1000,10000,10000]}\n",
    "#ridge = Ridge()\n",
    "#ridgeCV = GridSearchCV(ridge,param_grid=grid,return_train_score=True)\n",
    "#ridgeCV.fit(features,target)"
   ]
  },
  {
   "cell_type": "code",
   "execution_count": 7,
   "metadata": {},
   "outputs": [],
   "source": [
    "#print('best alpha',ridgeCV.best_params_)\n",
    "#print('test R2',ridgeCV.best_score_.round(3))"
   ]
  },
  {
   "cell_type": "code",
   "execution_count": 8,
   "metadata": {},
   "outputs": [],
   "source": [
    "#results = pd.DataFrame()\n",
    "#results['log_alpha'] = np.log10(grid['alpha'])\n",
    "#results['train R2'] = ridgeCV.cv_results_['mean_train_score']\n",
    "#results['test R2'] = ridgeCV.cv_results_['mean_test_score']\n",
    "#axl = results.plot.line(x='log_alpha',y='train R2')\n",
    "#results.plot.line(x='log_alpha',y='test R2',ax=axl)"
   ]
  },
  {
   "cell_type": "code",
   "execution_count": 9,
   "metadata": {},
   "outputs": [],
   "source": [
    "#ridge = ridgeCV.best_estimator_\n",
    "#coef = ridge.coef_\n",
    "#coef = pd.Series(coef,index = features.columns)\n",
    "#coef.sort_values(ascending=False)"
   ]
  },
  {
   "cell_type": "markdown",
   "metadata": {},
   "source": [
    "# LASSO Regression"
   ]
  },
  {
   "cell_type": "code",
   "execution_count": 12,
   "metadata": {},
   "outputs": [],
   "source": [
    "#rid={'alpha':[0.0001,0.001,0.01,0.1,1,10,100,1000,10000,10000]}\n",
    "#lasso = Lasso()\n",
    "#lassoCV = GridSearchCV(lasso,param_grid=grid,return_train_score=True)\n",
    "#lassoCV.fit(features,target)\n",
    "\n",
    "#print('best alpha',lassoCV.best_params_)\n",
    "\n",
    "#print('test R2',lassoCV.best_score_.round(3))\n",
    "\n",
    "#results = pd.DataFrame()\n",
    "#results['log_alpha'] = np.log10(grid['alpha'])\n",
    "#results['train R2'] = lassoCV.cv_results_['mean_train_score']\n",
    "#results['test R2'] = lassoCV.cv_results_['mean_test_score']\n",
    "#axl = results.plot.line(x='log_alpha',y='train R2')\n",
    "#results.plot.line(x='log_alpha',y='test R2',ax=axl)\n",
    "\n",
    "#lasso = lassoCV.best_estimator_\n",
    "#coef = ridge.coef_\n",
    "#coef = pd.Series(coef,index = features.columns)\n",
    "#coef.sort_values(ascending=False)"
   ]
  },
  {
   "cell_type": "markdown",
   "metadata": {},
   "source": [
    "# Bootstrap Linear regression Regressor"
   ]
  },
  {
   "cell_type": "code",
   "execution_count": 13,
   "metadata": {},
   "outputs": [],
   "source": [
    "#n = 1000\n",
    "\n",
    "#lr = LinearRegression()\n",
    "#feature_names = df.drop('mpg',axis=1).columns\n",
    "#coef = pd.DataFrame(index=feature_names,columns=range(n))\n",
    "#for k in range(n):\n",
    "    #df_boot = df.sample(frac=1.0,replace = True).copy()\n",
    "    #features = df_boot.drop('mpg',axis=1)\n",
    "    #target = df_boot.mpg\n",
    "    #features = StandardScaler.fit_transform(features)\n",
    "    #features = (features - features.mean())/features.std()\n",
    "    #lr.fit(features,target)\n",
    "    #coef.iloc[:,k]=lr.coef_"
   ]
  },
  {
   "cell_type": "code",
   "execution_count": 14,
   "metadata": {},
   "outputs": [],
   "source": [
    "#90% C.I. for coefficients\n",
    "#coef.quantile([0.05,0.95],axis=1).T"
   ]
  },
  {
   "cell_type": "code",
   "execution_count": 15,
   "metadata": {},
   "outputs": [],
   "source": [
    "#99% C.I for coefficients\n",
    "#coef.quantile([0.005,0.995],axis=1).T"
   ]
  },
  {
   "cell_type": "markdown",
   "metadata": {},
   "source": [
    "# Decision Tree Regressor"
   ]
  },
  {
   "cell_type": "code",
   "execution_count": 16,
   "metadata": {},
   "outputs": [],
   "source": [
    "#tree = DecisionTreeRegressor (max_depth=2)\n",
    "#tree.fit(features,target)"
   ]
  },
  {
   "cell_type": "code",
   "execution_count": 18,
   "metadata": {},
   "outputs": [],
   "source": [
    "#displat tree\n",
    "#dot_data = export_graphviz(tree,\n",
    "                          #out_file=None,\n",
    "                          #feature_names = features.columns,\n",
    "                          #proportion = True,\n",
    "                          #impurity = False,\n",
    "                          #filled = True,\n",
    "                          #rounded = True)\n",
    "#graph = graphviz.Source(dot_data)\n",
    "#graph"
   ]
  },
  {
   "cell_type": "code",
   "execution_count": 21,
   "metadata": {},
   "outputs": [],
   "source": [
    "#grid = {'max_depth':np.arange(1,25)}\n",
    "\n",
    "#tree = DecisionTreeRegressor()\n",
    "#treeCV = GridSearchCV(tree,param_grid=grid,return_train_score=True)\n",
    "#treeCV.fit(features,target)\n",
    "\n",
    "#print()\n",
    "#print('best alpha =',treeCV.best_params_, '  test R2 =',treeCV.best_score_.round(3))\n",
    "\n",
    "#results = pd.DataFrame()\n",
    "#results['depth'] = grid['max_depth']\n",
    "#results['train R2'] = treeCV.cv_results_['mean_train_score']\n",
    "#results['test R2']  = treeCV.cv_results_['mean_test_score']\n",
    "#ax1 = results.plot.line(x='depth',y='train R2')\n",
    "#results.plot.line(x='depth',y='test R2',ax=ax1)"
   ]
  },
  {
   "cell_type": "markdown",
   "metadata": {},
   "source": [
    "# Random Forest (Regressor)"
   ]
  },
  {
   "cell_type": "code",
   "execution_count": 24,
   "metadata": {},
   "outputs": [],
   "source": [
    "# grid-search cross-validation\n",
    "#grid = {'n_estimators': np.arange(10,210,10)}\n",
    "#rf = RandomForestRegressor()\n",
    "#rfCV = GridSearchCV(rf, param_grid = grid, return_train_score = True, n_jobs=1)\n",
    "#rfCV.fit(features_train, target_train)\n",
    "\n",
    "#print('best n_estimators',rfCV.best_params_)\n",
    "#print('validation R2',rfCV.best_score_.round(3))"
   ]
  },
  {
   "cell_type": "code",
   "execution_count": 25,
   "metadata": {},
   "outputs": [],
   "source": [
    "#results = pd.DataFrame()\n",
    "#results['trees'] = grid['n_estimators']\n",
    "#results['train R2'] = rfCV.cv_results_['mean_train_score']\n",
    "#results['test R2']  = rfCV.cv_results_['mean_test_score']\n",
    "#ax1 = results.plot.line(x='trees',y='train R2')\n",
    "#results.plot.line(x='trees',y='test R2',ax=ax1)"
   ]
  },
  {
   "cell_type": "code",
   "execution_count": 26,
   "metadata": {},
   "outputs": [],
   "source": [
    "# test R2\n",
    "#print('test R2',rfCV.score(features_test, target_test).round(3))"
   ]
  },
  {
   "cell_type": "markdown",
   "metadata": {},
   "source": [
    "# Out-of-Bag R2"
   ]
  },
  {
   "cell_type": "code",
   "execution_count": 27,
   "metadata": {},
   "outputs": [],
   "source": [
    "#rf = RandomForestRegressor(n_estimators=200,oob_score=True)\n",
    "#rf.fit(features_train,target_train)\n",
    "#print('out-of-bag R2', rf.oob_score_.round(3))"
   ]
  },
  {
   "cell_type": "markdown",
   "metadata": {},
   "source": [
    "# decision tree"
   ]
  },
  {
   "cell_type": "code",
   "execution_count": 32,
   "metadata": {},
   "outputs": [],
   "source": [
    "#grid = {'n_estimators':[10,100,200],'max_depth':np.arange(1,30)}\n",
    "#rf = RandomForestRegressor(n_jobs=-1)\n",
    "#rfCV = GridSearchCV(rf,param_grid=grid,n_jobs=-1)\n",
    "#rfCV.fit(features_train,target_train)\n",
    "#print('Random Forests:')\n",
    "#print('optimal parameters:',rfCV.best_params_)\n",
    "#print('optimal validation R2 =',rfCV.best_score_.round(3))"
   ]
  },
  {
   "cell_type": "markdown",
   "metadata": {},
   "source": [
    "# Boosting tree regressor"
   ]
  },
  {
   "cell_type": "code",
   "execution_count": 30,
   "metadata": {},
   "outputs": [],
   "source": [
    "#grid = {'learning_rate':[0.1,0.01,0.001],'n_estimators':[10,100,200],'max_depth':np.arange(1,30)}\n",
    "#gbt = GradientBoostingRegressor()\n",
    "#gbtCV = GridSearchCV(gbt,param_grid=grid,n_jobs=-1)\n",
    "#gbtCV.fit(features_train,target_train)\n",
    "#print('Gradient Boosting Trees:')\n",
    "#print('optimal parameters:',gbtCV.best_params_)\n",
    "#print('optimal validation R2 =',gbtCV.best_score_.round(3))"
   ]
  },
  {
   "cell_type": "code",
   "execution_count": 33,
   "metadata": {},
   "outputs": [],
   "source": [
    "#print('Random Forests:')\n",
    "#rf_opt = rfCV.best_estimator_\n",
    "#R2_train = rf_opt.score(features_train,target_train)\n",
    "#R2_test  = rf_opt.score(features_test,target_test)\n",
    "#print('train R2 =',R2_train.round(3))\n",
    "#print('test R2 =',R2_test.round(3))\n",
    "\n",
    "#print('Gradient Boosting Trees:')\n",
    "#gbt_opt = gbtCV.best_estimator_\n",
    "#R2_train = gbt_opt.score(features_train,target_train)\n",
    "#R2_test  = gbt_opt.score(features_test,target_test)\n",
    "#print('train R2 =',R2_train.round(3))\n",
    "#print('test R2 =',R2_test.round(3))"
   ]
  },
  {
   "cell_type": "code",
   "execution_count": null,
   "metadata": {},
   "outputs": [],
   "source": []
  }
 ],
 "metadata": {
  "kernelspec": {
   "display_name": "Python 3",
   "language": "python",
   "name": "python3"
  },
  "language_info": {
   "codemirror_mode": {
    "name": "ipython",
    "version": 3
   },
   "file_extension": ".py",
   "mimetype": "text/x-python",
   "name": "python",
   "nbconvert_exporter": "python",
   "pygments_lexer": "ipython3",
   "version": "3.6.10"
  }
 },
 "nbformat": 4,
 "nbformat_minor": 4
}
